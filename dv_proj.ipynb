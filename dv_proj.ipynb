{
 "cells": [
  {
   "cell_type": "code",
   "execution_count": 1,
   "metadata": {},
   "outputs": [],
   "source": [
    "import pandas as pd\n",
    "import numpy as np\n",
    "import matplotlib.pyplot as plt\n",
    "from sklearn.model_selection import train_test_split\n",
    "from sklearn.linear_model import LinearRegression\n",
    "from sklearn import metrics   "
   ]
  },
  {
   "cell_type": "code",
   "execution_count": 2,
   "metadata": {},
   "outputs": [
    {
     "data": {
      "text/plain": [
       "'0.25.1'"
      ]
     },
     "execution_count": 2,
     "metadata": {},
     "output_type": "execute_result"
    }
   ],
   "source": [
    "pd.__version__"
   ]
  },
  {
   "cell_type": "code",
   "execution_count": 3,
   "metadata": {},
   "outputs": [
    {
     "name": "stdout",
     "output_type": "stream",
     "text": [
      "            17638.48   Bitcoin  Ethereum  Tether  XRP  Chainlink  Litecoin  \\\n",
      "Time                                                                         \n",
      "11:15:00  482.320000  17501.06    476.30       1  0.3      12.78     73.09   \n",
      "11:16:00    1.000000  17501.06    476.30       1  0.3      12.78     73.09   \n",
      "11:17:00    0.303939  17437.87    474.79       1  0.3      12.75     72.81   \n",
      "11:18:00   13.870000  17437.87    474.79       1  0.3      12.75     72.81   \n",
      "11:19:00   74.740000  17437.87    474.79       1  0.3      12.75     72.81   \n",
      "...              ...       ...       ...     ...  ...        ...       ...   \n",
      "18:49:00         NaN  17631.28    481.81       1  0.3      13.81     74.48   \n",
      "18:50:00         NaN  17631.28    481.81       1  0.3      13.81     74.48   \n",
      "18:51:00         NaN  17638.48    482.32       1  0.3      13.87     74.74   \n",
      "18:52:00         NaN  17638.48    482.32       1  0.3      13.87     74.74   \n",
      "18:53:00         NaN  17638.48    482.32       1  0.3      13.87     74.74   \n",
      "\n",
      "          Bitcoin Cash  Polkadot  Binance Coin  Cardano       DOW  Bitcoin-2  \\\n",
      "Time                                                                           \n",
      "11:15:00        255.88      4.82         28.50     0.11  29479.81   16696.44   \n",
      "11:16:00        255.88      4.82         28.50     0.11  29479.81   16696.44   \n",
      "11:17:00        255.78      4.81         28.43     0.11  29479.81   16696.44   \n",
      "11:18:00        255.78      4.81         28.43     0.11  29479.81   16696.44   \n",
      "11:19:00        255.78      4.81         28.43     0.11  29479.81   16696.44   \n",
      "...                ...       ...           ...      ...       ...        ...   \n",
      "18:49:00        256.16      4.85         28.64     0.11  29479.81   16696.44   \n",
      "18:50:00        256.16      4.85         28.64     0.11  29479.81   16696.44   \n",
      "18:51:00        256.50      4.85         28.71     0.11  29479.81   16696.44   \n",
      "18:52:00        256.50      4.85         28.71     0.11  29479.81   16696.44   \n",
      "18:53:00        256.50      4.85         28.71     0.11  29479.81   16696.44   \n",
      "\n",
      "          Bitcoin-3  \n",
      "Time                 \n",
      "11:15:00   16700.73  \n",
      "11:16:00   16700.73  \n",
      "11:17:00   16700.73  \n",
      "11:18:00   16700.73  \n",
      "11:19:00   16700.73  \n",
      "...             ...  \n",
      "18:49:00   16700.73  \n",
      "18:50:00   16700.73  \n",
      "18:51:00   16700.73  \n",
      "18:52:00   16700.73  \n",
      "18:53:00   16700.73  \n",
      "\n",
      "[85 rows x 14 columns]\n"
     ]
    }
   ],
   "source": [
    "data = pd.read_excel (r'DV_Project.xlsm', sheet_name='Sheet2',index_col = 'Time')\n",
    "print(data)"
   ]
  },
  {
   "cell_type": "code",
   "execution_count": 4,
   "metadata": {},
   "outputs": [],
   "source": [
    "data = pd.read_excel (r'DV_Project.xlsm', sheet_name='Sheet2', index_col= 'Time')"
   ]
  },
  {
   "cell_type": "code",
   "execution_count": 5,
   "metadata": {},
   "outputs": [
    {
     "name": "stdout",
     "output_type": "stream",
     "text": [
      "            17638.48   Bitcoin  Ethereum  Tether  XRP  Chainlink  Litecoin  \\\n",
      "Time                                                                         \n",
      "11:15:00  482.320000  17501.06    476.30       1  0.3      12.78     73.09   \n",
      "11:16:00    1.000000  17501.06    476.30       1  0.3      12.78     73.09   \n",
      "11:17:00    0.303939  17437.87    474.79       1  0.3      12.75     72.81   \n",
      "11:18:00   13.870000  17437.87    474.79       1  0.3      12.75     72.81   \n",
      "11:19:00   74.740000  17437.87    474.79       1  0.3      12.75     72.81   \n",
      "...              ...       ...       ...     ...  ...        ...       ...   \n",
      "18:49:00         NaN  17631.28    481.81       1  0.3      13.81     74.48   \n",
      "18:50:00         NaN  17631.28    481.81       1  0.3      13.81     74.48   \n",
      "18:51:00         NaN  17638.48    482.32       1  0.3      13.87     74.74   \n",
      "18:52:00         NaN  17638.48    482.32       1  0.3      13.87     74.74   \n",
      "18:53:00         NaN  17638.48    482.32       1  0.3      13.87     74.74   \n",
      "\n",
      "          Bitcoin Cash  Polkadot  Binance Coin  Cardano       DOW  Bitcoin-2  \\\n",
      "Time                                                                           \n",
      "11:15:00        255.88      4.82         28.50     0.11  29479.81   16696.44   \n",
      "11:16:00        255.88      4.82         28.50     0.11  29479.81   16696.44   \n",
      "11:17:00        255.78      4.81         28.43     0.11  29479.81   16696.44   \n",
      "11:18:00        255.78      4.81         28.43     0.11  29479.81   16696.44   \n",
      "11:19:00        255.78      4.81         28.43     0.11  29479.81   16696.44   \n",
      "...                ...       ...           ...      ...       ...        ...   \n",
      "18:49:00        256.16      4.85         28.64     0.11  29479.81   16696.44   \n",
      "18:50:00        256.16      4.85         28.64     0.11  29479.81   16696.44   \n",
      "18:51:00        256.50      4.85         28.71     0.11  29479.81   16696.44   \n",
      "18:52:00        256.50      4.85         28.71     0.11  29479.81   16696.44   \n",
      "18:53:00        256.50      4.85         28.71     0.11  29479.81   16696.44   \n",
      "\n",
      "          Bitcoin-3  \n",
      "Time                 \n",
      "11:15:00   16700.73  \n",
      "11:16:00   16700.73  \n",
      "11:17:00   16700.73  \n",
      "11:18:00   16700.73  \n",
      "11:19:00   16700.73  \n",
      "...             ...  \n",
      "18:49:00   16700.73  \n",
      "18:50:00   16700.73  \n",
      "18:51:00   16700.73  \n",
      "18:52:00   16700.73  \n",
      "18:53:00   16700.73  \n",
      "\n",
      "[85 rows x 14 columns]\n"
     ]
    }
   ],
   "source": [
    "print(data)"
   ]
  },
  {
   "cell_type": "code",
   "execution_count": 6,
   "metadata": {},
   "outputs": [
    {
     "data": {
      "text/plain": [
       "Text(0, 0.5, 'Bitcoin price')"
      ]
     },
     "execution_count": 6,
     "metadata": {},
     "output_type": "execute_result"
    },
    {
     "data": {
      "image/png": "[encoded data removed]",
      "text/plain": [
       "<Figure size 432x288 with 1 Axes>"
      ]
     },
     "metadata": {
      "needs_background": "light"
     },
     "output_type": "display_data"
    }
   ],
   "source": [
    "data['Bitcoin'].plot()\n",
    "plt.ylabel(\"Bitcoin price\")"
   ]
  },
  {
   "cell_type": "code",
   "execution_count": 7,
   "metadata": {},
   "outputs": [
    {
     "data": {
      "text/html": [
       "<div>\n",
       "<style scoped>\n",
       "    .dataframe tbody tr th:only-of-type {\n",
       "        vertical-align: middle;\n",
       "    }\n",
       "\n",
       "    .dataframe tbody tr th {\n",
       "        vertical-align: top;\n",
       "    }\n",
       "\n",
       "    .dataframe thead th {\n",
       "        text-align: right;\n",
       "    }\n",
       "</style>\n",
       "<table border=\"1\" class=\"dataframe\">\n",
       "  <thead>\n",
       "    <tr style=\"text-align: right;\">\n",
       "      <th></th>\n",
       "      <th>17638.48</th>\n",
       "      <th>Bitcoin</th>\n",
       "      <th>Ethereum</th>\n",
       "      <th>Tether</th>\n",
       "      <th>XRP</th>\n",
       "      <th>Chainlink</th>\n",
       "      <th>Litecoin</th>\n",
       "      <th>Bitcoin Cash</th>\n",
       "      <th>Polkadot</th>\n",
       "      <th>Binance Coin</th>\n",
       "      <th>Cardano</th>\n",
       "      <th>DOW</th>\n",
       "      <th>Bitcoin-2</th>\n",
       "      <th>Bitcoin-3</th>\n",
       "    </tr>\n",
       "  </thead>\n",
       "  <tbody>\n",
       "    <tr>\n",
       "      <td>count</td>\n",
       "      <td>12.000000</td>\n",
       "      <td>85.000000</td>\n",
       "      <td>85.000000</td>\n",
       "      <td>85.0</td>\n",
       "      <td>85.000000</td>\n",
       "      <td>85.000000</td>\n",
       "      <td>85.000000</td>\n",
       "      <td>85.000000</td>\n",
       "      <td>85.000000</td>\n",
       "      <td>85.000000</td>\n",
       "      <td>8.500000e+01</td>\n",
       "      <td>8.500000e+01</td>\n",
       "      <td>8.500000e+01</td>\n",
       "      <td>8.500000e+01</td>\n",
       "    </tr>\n",
       "    <tr>\n",
       "      <td>mean</td>\n",
       "      <td>5311.615385</td>\n",
       "      <td>17655.842471</td>\n",
       "      <td>480.948824</td>\n",
       "      <td>1.0</td>\n",
       "      <td>0.302824</td>\n",
       "      <td>13.397647</td>\n",
       "      <td>74.882118</td>\n",
       "      <td>256.131529</td>\n",
       "      <td>4.862706</td>\n",
       "      <td>28.593059</td>\n",
       "      <td>1.100000e-01</td>\n",
       "      <td>2.947981e+04</td>\n",
       "      <td>1.669644e+04</td>\n",
       "      <td>1.670073e+04</td>\n",
       "    </tr>\n",
       "    <tr>\n",
       "      <td>std</td>\n",
       "      <td>9947.547185</td>\n",
       "      <td>97.377252</td>\n",
       "      <td>3.290642</td>\n",
       "      <td>0.0</td>\n",
       "      <td>0.004528</td>\n",
       "      <td>0.480676</td>\n",
       "      <td>1.195165</td>\n",
       "      <td>0.708199</td>\n",
       "      <td>0.031373</td>\n",
       "      <td>0.111793</td>\n",
       "      <td>4.188045e-17</td>\n",
       "      <td>4.391483e-11</td>\n",
       "      <td>3.293612e-11</td>\n",
       "      <td>1.097871e-11</td>\n",
       "    </tr>\n",
       "    <tr>\n",
       "      <td>min</td>\n",
       "      <td>0.110682</td>\n",
       "      <td>17437.870000</td>\n",
       "      <td>474.790000</td>\n",
       "      <td>1.0</td>\n",
       "      <td>0.300000</td>\n",
       "      <td>12.730000</td>\n",
       "      <td>72.810000</td>\n",
       "      <td>255.280000</td>\n",
       "      <td>4.810000</td>\n",
       "      <td>28.420000</td>\n",
       "      <td>1.100000e-01</td>\n",
       "      <td>2.947981e+04</td>\n",
       "      <td>1.669644e+04</td>\n",
       "      <td>1.670073e+04</td>\n",
       "    </tr>\n",
       "    <tr>\n",
       "      <td>25%</td>\n",
       "      <td>3.887500</td>\n",
       "      <td>17631.280000</td>\n",
       "      <td>477.910000</td>\n",
       "      <td>1.0</td>\n",
       "      <td>0.300000</td>\n",
       "      <td>12.780000</td>\n",
       "      <td>73.500000</td>\n",
       "      <td>255.410000</td>\n",
       "      <td>4.840000</td>\n",
       "      <td>28.480000</td>\n",
       "      <td>1.100000e-01</td>\n",
       "      <td>2.947981e+04</td>\n",
       "      <td>1.669644e+04</td>\n",
       "      <td>1.670073e+04</td>\n",
       "    </tr>\n",
       "    <tr>\n",
       "      <td>50%</td>\n",
       "      <td>51.725000</td>\n",
       "      <td>17658.430000</td>\n",
       "      <td>481.200000</td>\n",
       "      <td>1.0</td>\n",
       "      <td>0.300000</td>\n",
       "      <td>13.450000</td>\n",
       "      <td>75.050000</td>\n",
       "      <td>256.130000</td>\n",
       "      <td>4.850000</td>\n",
       "      <td>28.590000</td>\n",
       "      <td>1.100000e-01</td>\n",
       "      <td>2.947981e+04</td>\n",
       "      <td>1.669644e+04</td>\n",
       "      <td>1.670073e+04</td>\n",
       "    </tr>\n",
       "    <tr>\n",
       "      <td>75%</td>\n",
       "      <td>4535.850000</td>\n",
       "      <td>17750.970000</td>\n",
       "      <td>483.840000</td>\n",
       "      <td>1.0</td>\n",
       "      <td>0.310000</td>\n",
       "      <td>13.870000</td>\n",
       "      <td>75.940000</td>\n",
       "      <td>256.550000</td>\n",
       "      <td>4.890000</td>\n",
       "      <td>28.710000</td>\n",
       "      <td>1.100000e-01</td>\n",
       "      <td>2.947981e+04</td>\n",
       "      <td>1.669644e+04</td>\n",
       "      <td>1.670073e+04</td>\n",
       "    </tr>\n",
       "    <tr>\n",
       "      <td>max</td>\n",
       "      <td>29479.810000</td>\n",
       "      <td>17769.470000</td>\n",
       "      <td>485.850000</td>\n",
       "      <td>1.0</td>\n",
       "      <td>0.310000</td>\n",
       "      <td>14.010000</td>\n",
       "      <td>76.320000</td>\n",
       "      <td>257.400000</td>\n",
       "      <td>4.920000</td>\n",
       "      <td>28.770000</td>\n",
       "      <td>1.100000e-01</td>\n",
       "      <td>2.947981e+04</td>\n",
       "      <td>1.669644e+04</td>\n",
       "      <td>1.670073e+04</td>\n",
       "    </tr>\n",
       "  </tbody>\n",
       "</table>\n",
       "</div>"
      ],
      "text/plain": [
       "           17638.48       Bitcoin    Ethereum  Tether        XRP  Chainlink  \\\n",
       "count     12.000000     85.000000   85.000000    85.0  85.000000  85.000000   \n",
       "mean    5311.615385  17655.842471  480.948824     1.0   0.302824  13.397647   \n",
       "std     9947.547185     97.377252    3.290642     0.0   0.004528   0.480676   \n",
       "min        0.110682  17437.870000  474.790000     1.0   0.300000  12.730000   \n",
       "25%        3.887500  17631.280000  477.910000     1.0   0.300000  12.780000   \n",
       "50%       51.725000  17658.430000  481.200000     1.0   0.300000  13.450000   \n",
       "75%     4535.850000  17750.970000  483.840000     1.0   0.310000  13.870000   \n",
       "max    29479.810000  17769.470000  485.850000     1.0   0.310000  14.010000   \n",
       "\n",
       "        Litecoin  Bitcoin Cash   Polkadot  Binance Coin       Cardano  \\\n",
       "count  85.000000     85.000000  85.000000     85.000000  8.500000e+01   \n",
       "mean   74.882118    256.131529   4.862706     28.593059  1.100000e-01   \n",
       "std     1.195165      0.708199   0.031373      0.111793  4.188045e-17   \n",
       "min    72.810000    255.280000   4.810000     28.420000  1.100000e-01   \n",
       "25%    73.500000    255.410000   4.840000     28.480000  1.100000e-01   \n",
       "50%    75.050000    256.130000   4.850000     28.590000  1.100000e-01   \n",
       "75%    75.940000    256.550000   4.890000     28.710000  1.100000e-01   \n",
       "max    76.320000    257.400000   4.920000     28.770000  1.100000e-01   \n",
       "\n",
       "                DOW     Bitcoin-2     Bitcoin-3  \n",
       "count  8.500000e+01  8.500000e+01  8.500000e+01  \n",
       "mean   2.947981e+04  1.669644e+04  1.670073e+04  \n",
       "std    4.391483e-11  3.293612e-11  1.097871e-11  \n",
       "min    2.947981e+04  1.669644e+04  1.670073e+04  \n",
       "25%    2.947981e+04  1.669644e+04  1.670073e+04  \n",
       "50%    2.947981e+04  1.669644e+04  1.670073e+04  \n",
       "75%    2.947981e+04  1.669644e+04  1.670073e+04  \n",
       "max    2.947981e+04  1.669644e+04  1.670073e+04  "
      ]
     },
     "execution_count": 7,
     "metadata": {},
     "output_type": "execute_result"
    }
   ],
   "source": [
    "data.describe()"
   ]
  },
  {
   "cell_type": "code",
   "execution_count": 8,
   "metadata": {},
   "outputs": [],
   "source": [
    "model = LinearRegression()"
   ]
  },
  {
   "cell_type": "code",
   "execution_count": 9,
   "metadata": {},
   "outputs": [],
   "source": [
    "x = data[['Bitcoin']].values\n",
    "y = data['Bitcoin'].values"
   ]
  },
  {
   "cell_type": "code",
   "execution_count": 10,
   "metadata": {},
   "outputs": [],
   "source": [
    "x_train,x_test,y_train,y_test= train_test_split(x,y,test_size=0.2, random_state=0)"
   ]
  },
  {
   "cell_type": "code",
   "execution_count": 11,
   "metadata": {},
   "outputs": [
    {
     "data": {
      "text/plain": [
       "LinearRegression(copy_X=True, fit_intercept=True, n_jobs=None, normalize=False)"
      ]
     },
     "execution_count": 11,
     "metadata": {},
     "output_type": "execute_result"
    }
   ],
   "source": [
    "model.fit(x_train,y_train)"
   ]
  },
  {
   "cell_type": "code",
   "execution_count": 12,
   "metadata": {},
   "outputs": [
    {
     "name": "stdout",
     "output_type": "stream",
     "text": [
      "[1.]\n"
     ]
    }
   ],
   "source": [
    "print(model.coef_)"
   ]
  },
  {
   "cell_type": "code",
   "execution_count": 13,
   "metadata": {},
   "outputs": [
    {
     "name": "stdout",
     "output_type": "stream",
     "text": [
      "-3.637978807091713e-12\n"
     ]
    }
   ],
   "source": [
    "print(model.intercept_)"
   ]
  },
  {
   "cell_type": "code",
   "execution_count": 14,
   "metadata": {},
   "outputs": [
    {
     "name": "stdout",
     "output_type": "stream",
     "text": [
      "[17750.97 17769.47 17688.17 17759.37 17437.87 17618.49 17756.12 17631.28\n",
      " 17668.48 17702.92 17688.17 17631.28 17437.87 17769.47 17637.36 17650.33\n",
      " 17759.37 17688.17 17638.48 17750.97 17750.97 17437.87 17764.76 17764.76\n",
      " 17618.49 17618.49 17437.87 17631.28 17702.92 17501.06 17645.41 17650.33\n",
      " 17482.42 17645.41 17676.27 17464.1  17650.33 17750.97 17702.92 17501.06\n",
      " 17645.41 17688.17 17764.76 17769.47 17759.37 17650.33 17668.48 17668.48\n",
      " 17638.48 17638.48 17759.37 17631.28 17676.27 17618.49 17637.36 17618.49\n",
      " 17756.12 17769.47 17482.42 17702.92 17645.41 17759.37 17464.1  17631.28\n",
      " 17756.12 17756.12 17637.36 17637.36]\n"
     ]
    }
   ],
   "source": [
    "predicted = model.predict(x_train)\n",
    "print(predicted)"
   ]
  },
  {
   "cell_type": "code",
   "execution_count": 15,
   "metadata": {},
   "outputs": [
    {
     "name": "stdout",
     "output_type": "stream",
     "text": [
      "[17437.87 17764.76 17756.12 17618.49 17668.48 17650.33 17668.48 17688.17\n",
      " 17750.97 17637.36 17464.1  17658.43 17645.41 17769.47 17464.1  17764.76\n",
      " 17676.27]\n"
     ]
    }
   ],
   "source": [
    "predicted2 = model.predict(x_test)\n",
    "print(predicted2)"
   ]
  },
  {
   "cell_type": "code",
   "execution_count": 16,
   "metadata": {},
   "outputs": [],
   "source": [
    "data_frame = pd.DataFrame({'Actual':x_train.flatten(),'Predicted':predicted.flatten()})"
   ]
  },
  {
   "cell_type": "code",
   "execution_count": 18,
   "metadata": {},
   "outputs": [
    {
     "name": "stdout",
     "output_type": "stream",
     "text": [
      "      Actual  Predicted\n",
      "0   17750.97   17750.97\n",
      "1   17769.47   17769.47\n",
      "2   17688.17   17688.17\n",
      "3   17759.37   17759.37\n",
      "4   17437.87   17437.87\n",
      "..       ...        ...\n",
      "63  17631.28   17631.28\n",
      "64  17756.12   17756.12\n",
      "65  17756.12   17756.12\n",
      "66  17637.36   17637.36\n",
      "67  17637.36   17637.36\n",
      "\n",
      "[68 rows x 2 columns]\n"
     ]
    }
   ],
   "source": [
    "print(data_frame)"
   ]
  },
  {
   "cell_type": "code",
   "execution_count": 19,
   "metadata": {},
   "outputs": [
    {
     "data": {
      "text/html": [
       "<div>\n",
       "<style scoped>\n",
       "    .dataframe tbody tr th:only-of-type {\n",
       "        vertical-align: middle;\n",
       "    }\n",
       "\n",
       "    .dataframe tbody tr th {\n",
       "        vertical-align: top;\n",
       "    }\n",
       "\n",
       "    .dataframe thead th {\n",
       "        text-align: right;\n",
       "    }\n",
       "</style>\n",
       "<table border=\"1\" class=\"dataframe\">\n",
       "  <thead>\n",
       "    <tr style=\"text-align: right;\">\n",
       "      <th></th>\n",
       "      <th>Actual</th>\n",
       "      <th>Predicted</th>\n",
       "    </tr>\n",
       "  </thead>\n",
       "  <tbody>\n",
       "    <tr>\n",
       "      <td>0</td>\n",
       "      <td>17750.97</td>\n",
       "      <td>17750.97</td>\n",
       "    </tr>\n",
       "    <tr>\n",
       "      <td>1</td>\n",
       "      <td>17769.47</td>\n",
       "      <td>17769.47</td>\n",
       "    </tr>\n",
       "    <tr>\n",
       "      <td>2</td>\n",
       "      <td>17688.17</td>\n",
       "      <td>17688.17</td>\n",
       "    </tr>\n",
       "    <tr>\n",
       "      <td>3</td>\n",
       "      <td>17759.37</td>\n",
       "      <td>17759.37</td>\n",
       "    </tr>\n",
       "    <tr>\n",
       "      <td>4</td>\n",
       "      <td>17437.87</td>\n",
       "      <td>17437.87</td>\n",
       "    </tr>\n",
       "    <tr>\n",
       "      <td>5</td>\n",
       "      <td>17618.49</td>\n",
       "      <td>17618.49</td>\n",
       "    </tr>\n",
       "    <tr>\n",
       "      <td>6</td>\n",
       "      <td>17756.12</td>\n",
       "      <td>17756.12</td>\n",
       "    </tr>\n",
       "    <tr>\n",
       "      <td>7</td>\n",
       "      <td>17631.28</td>\n",
       "      <td>17631.28</td>\n",
       "    </tr>\n",
       "    <tr>\n",
       "      <td>8</td>\n",
       "      <td>17668.48</td>\n",
       "      <td>17668.48</td>\n",
       "    </tr>\n",
       "    <tr>\n",
       "      <td>9</td>\n",
       "      <td>17702.92</td>\n",
       "      <td>17702.92</td>\n",
       "    </tr>\n",
       "  </tbody>\n",
       "</table>\n",
       "</div>"
      ],
      "text/plain": [
       "     Actual  Predicted\n",
       "0  17750.97   17750.97\n",
       "1  17769.47   17769.47\n",
       "2  17688.17   17688.17\n",
       "3  17759.37   17759.37\n",
       "4  17437.87   17437.87\n",
       "5  17618.49   17618.49\n",
       "6  17756.12   17756.12\n",
       "7  17631.28   17631.28\n",
       "8  17668.48   17668.48\n",
       "9  17702.92   17702.92"
      ]
     },
     "execution_count": 19,
     "metadata": {},
     "output_type": "execute_result"
    }
   ],
   "source": [
    "data_frame.head(10)"
   ]
  },
  {
   "cell_type": "code",
   "execution_count": 20,
   "metadata": {},
   "outputs": [
    {
     "data": {
      "text/plain": [
       "<matplotlib.axes._subplots.AxesSubplot at 0x23c43b136c8>"
      ]
     },
     "execution_count": 20,
     "metadata": {},
     "output_type": "execute_result"
    },
    {
     "data": {
      "image/png": "[encoded data removed]",
      "text/plain": [
       "<Figure size 432x288 with 1 Axes>"
      ]
     },
     "metadata": {
      "needs_background": "light"
     },
     "output_type": "display_data"
    }
   ],
   "source": [
    "data_frame.plot(kind = 'bar')"
   ]
  },
  {
   "cell_type": "code",
   "execution_count": 21,
   "metadata": {},
   "outputs": [
    {
     "name": "stdout",
     "output_type": "stream",
     "text": [
      "R2 score: 1.0\n",
      "Mean Absolute Error: 0.0\n",
      "Mean Squared Error: 0.0\n",
      "Root Mean Squared Error: 0.0\n"
     ]
    }
   ],
   "source": [
    "predicted = model.predict(x_train)\n",
    "print('R2 score:', metrics.r2_score(y_train, predicted))\n",
    "print('Mean Absolute Error:', metrics.mean_absolute_error(y_train, predicted))\n",
    "print('Mean Squared Error:', metrics.mean_squared_error(y_train, predicted))\n",
    "print('Root Mean Squared Error:', np.sqrt(metrics.mean_squared_error(y_train, predicted)))"
   ]
  },
  {
   "cell_type": "code",
   "execution_count": 22,
   "metadata": {},
   "outputs": [
    {
     "name": "stdout",
     "output_type": "stream",
     "text": [
      "R2 score: 1.0\n",
      "Mean Absolute Error: 0.0\n",
      "Mean Squared Error: 0.0\n",
      "Root Mean Squared Error: 0.0\n"
     ]
    }
   ],
   "source": [
    "predicted2 = model.predict(x_test)\n",
    "print('R2 score:', metrics.r2_score(y_test, predicted2))\n",
    "print('Mean Absolute Error:', metrics.mean_absolute_error(y_test, predicted2))\n",
    "print('Mean Squared Error:', metrics.mean_squared_error(y_test, predicted2))\n",
    "print('Root Mean Squared Error:', np.sqrt(metrics.mean_squared_error(y_test, predicted2)))"
   ]
  },
  {
   "cell_type": "code",
   "execution_count": null,
   "metadata": {},
   "outputs": [],
   "source": []
  }
 ],
 "metadata": {
  "kernelspec": {
   "display_name": "Python 3",
   "language": "python",
   "name": "python3"
  },
  "language_info": {
   "codemirror_mode": {
    "name": "ipython",
    "version": 3
   },
   "file_extension": ".py",
   "mimetype": "text/x-python",
   "name": "python",
   "nbconvert_exporter": "python",
   "pygments_lexer": "ipython3",
   "version": "3.7.4"
  }
 },
 "nbformat": 4,
 "nbformat_minor": 4
}
