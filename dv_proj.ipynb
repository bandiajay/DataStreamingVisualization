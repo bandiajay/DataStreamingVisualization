{
 "cells": [
  {
   "cell_type": "code",
   "execution_count": 1,
   "metadata": {},
   "outputs": [],
   "source": [
    "import pandas as pd\n",
    "import numpy as np\n",
    "import matplotlib.pyplot as plt\n",
    "from sklearn.model_selection import train_test_split\n",
    "from sklearn.linear_model import LinearRegression\n",
    "from sklearn import metrics   "
   ]
  },
  {
   "cell_type": "code",
   "execution_count": 2,
   "metadata": {},
   "outputs": [
    {
     "data": {
      "text/plain": [
       "'0.25.1'"
      ]
     },
     "execution_count": 2,
     "metadata": {},
     "output_type": "execute_result"
    }
   ],
   "source": [
    "pd.__version__"
   ]
  },
  {
   "cell_type": "code",
   "execution_count": 3,
   "metadata": {},
   "outputs": [
    {
     "name": "stdout",
     "output_type": "stream",
     "text": [
      "        16792.57      Time   Bitcoin  Ethereum  Tether   XRP  Chainlink  \\\n",
      "0     463.720000  15:56:00  15994.79    458.40       1  0.27      12.50   \n",
      "1       1.000000  15:57:00  15994.79    458.40       1  0.27      12.50   \n",
      "2       0.291375  15:58:00  15983.84    458.25       1  0.27      12.50   \n",
      "3      12.900000  15:59:00  15983.84    458.25       1  0.27      12.50   \n",
      "4      74.540000  16:00:00  15983.84    458.25       1  0.27      12.50   \n",
      "5     251.810000  16:01:00  15983.84    458.25       1  0.27      12.50   \n",
      "6      28.160000  16:02:00  15983.84    458.25       1  0.27      12.50   \n",
      "7       4.570000  16:03:00  15980.38    458.34       1  0.27      12.51   \n",
      "8       0.104867  16:04:00  15980.38    458.34       1  0.27      12.51   \n",
      "9   29479.810000  16:05:00  15980.38    458.34       1  0.27      12.51   \n",
      "10           NaN  16:06:00  15980.38    458.34       1  0.27      12.51   \n",
      "11           NaN  16:07:00  15980.38    458.34       1  0.27      12.51   \n",
      "12           NaN  16:08:00  15980.38    458.34       1  0.27      12.51   \n",
      "13           NaN  16:09:00  16003.73    459.20       1  0.27      12.54   \n",
      "14           NaN  16:10:00  16003.73    459.20       1  0.27      12.54   \n",
      "15           NaN  16:11:00  16003.73    459.20       1  0.27      12.54   \n",
      "16           NaN  16:13:00  16003.73    459.20       1  0.27      12.54   \n",
      "17           NaN  16:14:00  16014.28    459.30       1  0.27      12.55   \n",
      "18           NaN  16:15:00  16014.28    459.30       1  0.27      12.55   \n",
      "19           NaN  16:16:00  16014.28    459.30       1  0.27      12.55   \n",
      "20           NaN  18:19:00  16727.49    461.71       1  0.29      12.87   \n",
      "21           NaN  18:19:00  16727.49    461.71       1  0.29      12.87   \n",
      "22           NaN  18:20:00  16727.49    461.71       1  0.29      12.87   \n",
      "23           NaN  18:22:00  16708.40    462.33       1  0.29      12.93   \n",
      "24           NaN  18:22:00  16708.40    462.33       1  0.29      12.93   \n",
      "25           NaN  18:23:00  16708.40    462.33       1  0.29      12.93   \n",
      "26           NaN  18:24:00  16708.40    462.33       1  0.29      12.93   \n",
      "27           NaN  18:25:00  16708.40    462.33       1  0.29      12.93   \n",
      "28           NaN  18:26:00  16738.89    462.95       1  0.29      12.96   \n",
      "29           NaN  18:27:00  16738.89    462.95       1  0.29      12.96   \n",
      "30           NaN  18:28:00  16738.89    462.95       1  0.29      12.96   \n",
      "31           NaN  18:29:00  16738.89    462.95       1  0.29      12.96   \n",
      "32           NaN  18:30:00  16738.89    462.95       1  0.29      12.96   \n",
      "33           NaN  18:31:00  16728.93    463.07       1  0.29      12.94   \n",
      "34           NaN  18:32:00  16728.93    463.07       1  0.29      12.94   \n",
      "35           NaN  18:33:00  16728.93    463.07       1  0.29      12.94   \n",
      "36           NaN  18:34:00  16728.93    463.07       1  0.29      12.94   \n",
      "37           NaN  18:35:00  16728.93    463.07       1  0.29      12.94   \n",
      "38           NaN  18:36:00  16748.59    463.60       1  0.29      12.92   \n",
      "39           NaN  18:37:00  16748.59    463.60       1  0.29      12.92   \n",
      "40           NaN  18:38:00  16748.59    463.60       1  0.29      12.92   \n",
      "41           NaN  18:39:00  16748.59    463.60       1  0.29      12.92   \n",
      "42           NaN  18:40:00  16748.59    463.60       1  0.29      12.92   \n",
      "43           NaN  18:41:00  16792.57    463.72       1  0.29      12.90   \n",
      "44           NaN  18:42:00  16792.57    463.72       1  0.29      12.90   \n",
      "45           NaN  18:43:00  16792.57    463.72       1  0.29      12.90   \n",
      "46           NaN  18:43:00  16792.57    463.72       1  0.29      12.90   \n",
      "47           NaN  18:43:00  16792.57    463.72       1  0.29      12.90   \n",
      "\n",
      "    Litecoin  Bitcoin Cash  Binance Coin  Polkadot  Cardano       DOW  \n",
      "0     256.64         62.96         27.88      4.47      0.1  29479.81  \n",
      "1     256.64         62.96         27.88      4.47      0.1  29479.81  \n",
      "2     256.46         62.95         27.88      4.47      0.1  29479.81  \n",
      "3     256.46         62.95         27.88      4.47      0.1  29479.81  \n",
      "4     256.46         62.95         27.88      4.47      0.1  29479.81  \n",
      "5     256.46         62.95         27.88      4.47      0.1  29479.81  \n",
      "6     256.46         62.95         27.88      4.47      0.1  29479.81  \n",
      "7     256.37         62.98         27.90      4.46      0.1  29479.81  \n",
      "8     256.37         62.98         27.90      4.46      0.1  29479.81  \n",
      "9     256.37         62.98         27.90      4.46      0.1  29479.81  \n",
      "10    256.37         62.98         27.90      4.46      0.1  29479.81  \n",
      "11    256.37         62.98         27.90      4.46      0.1  29479.81  \n",
      "12    256.37         62.98         27.90      4.46      0.1  29479.81  \n",
      "13    256.48         63.06         27.91      4.48      0.1  29479.81  \n",
      "14    256.48         63.06         27.91      4.48      0.1  29479.81  \n",
      "15    256.48         63.06         27.91      4.48      0.1  29479.81  \n",
      "16    256.48         63.06         27.91      4.48      0.1  29479.81  \n",
      "17    256.42         63.08         27.88      4.47      0.1  29479.81  \n",
      "18    256.42         63.08         27.88      4.47      0.1  29479.81  \n",
      "19    256.42         63.08         27.88      4.47      0.1  29479.81  \n",
      "20     74.46        250.73         28.00      4.52      0.1  29479.81  \n",
      "21     74.46        250.73         28.00      4.52      0.1  29479.81  \n",
      "22     74.46        250.73         28.00      4.52      0.1  29479.81  \n",
      "23     74.57        250.68         28.05      4.52      0.1  29479.81  \n",
      "24     74.57        250.68         28.05      4.52      0.1  29479.81  \n",
      "25     74.57        250.68         28.05      4.52      0.1  29479.81  \n",
      "26     74.57        250.68         28.05      4.52      0.1  29479.81  \n",
      "27     74.57        250.68         28.05      4.52      0.1  29479.81  \n",
      "28     75.08        251.14         28.09      4.53      0.1  29479.81  \n",
      "29     75.08        251.14         28.09      4.53      0.1  29479.81  \n",
      "30     75.08        251.14         28.09      4.53      0.1  29479.81  \n",
      "31     75.08        251.14         28.09      4.53      0.1  29479.81  \n",
      "32     75.08        251.14         28.09      4.53      0.1  29479.81  \n",
      "33     75.02        251.26         28.06      4.57      0.1  29479.81  \n",
      "34     75.02        251.26         28.06      4.57      0.1  29479.81  \n",
      "35     75.02        251.26         28.06      4.57      0.1  29479.81  \n",
      "36     75.02        251.26         28.06      4.57      0.1  29479.81  \n",
      "37     75.02        251.26         28.06      4.57      0.1  29479.81  \n",
      "38     74.89        251.15         28.18      4.55      0.1  29479.81  \n",
      "39     74.89        251.15         28.18      4.55      0.1  29479.81  \n",
      "40     74.89        251.15         28.18      4.55      0.1  29479.81  \n",
      "41     74.89        251.15         28.18      4.55      0.1  29479.81  \n",
      "42     74.89        251.15         28.18      4.55      0.1  29479.81  \n",
      "43     74.54        251.81         28.16      4.57      0.1  29479.81  \n",
      "44     74.54        251.81         28.16      4.57      0.1  29479.81  \n",
      "45     74.54        251.81         28.16      4.57      0.1  29479.81  \n",
      "46     74.54        251.81         28.16      4.57      0.1  29479.81  \n",
      "47     74.54        251.81         28.16      4.57      0.1  29479.81  \n"
     ]
    }
   ],
   "source": [
    "data = pd.read_excel (r'DV_Project.xlsm', sheet_name='Sheet2')\n",
    "print(data)"
   ]
  },
  {
   "cell_type": "code",
   "execution_count": 4,
   "metadata": {},
   "outputs": [],
   "source": [
    "data = pd.read_excel (r'DV_Project.xlsm', sheet_name='Sheet2', index_col= 'Time')"
   ]
  },
  {
   "cell_type": "code",
   "execution_count": 5,
   "metadata": {},
   "outputs": [
    {
     "name": "stdout",
     "output_type": "stream",
     "text": [
      "              16792.57   Bitcoin  Ethereum  Tether   XRP  Chainlink  Litecoin  \\\n",
      "Time                                                                            \n",
      "15:56:00    463.720000  15994.79    458.40       1  0.27      12.50    256.64   \n",
      "15:57:00      1.000000  15994.79    458.40       1  0.27      12.50    256.64   \n",
      "15:58:00      0.291375  15983.84    458.25       1  0.27      12.50    256.46   \n",
      "15:59:00     12.900000  15983.84    458.25       1  0.27      12.50    256.46   \n",
      "16:00:00     74.540000  15983.84    458.25       1  0.27      12.50    256.46   \n",
      "16:01:00    251.810000  15983.84    458.25       1  0.27      12.50    256.46   \n",
      "16:02:00     28.160000  15983.84    458.25       1  0.27      12.50    256.46   \n",
      "16:03:00      4.570000  15980.38    458.34       1  0.27      12.51    256.37   \n",
      "16:04:00      0.104867  15980.38    458.34       1  0.27      12.51    256.37   \n",
      "16:05:00  29479.810000  15980.38    458.34       1  0.27      12.51    256.37   \n",
      "16:06:00           NaN  15980.38    458.34       1  0.27      12.51    256.37   \n",
      "16:07:00           NaN  15980.38    458.34       1  0.27      12.51    256.37   \n",
      "16:08:00           NaN  15980.38    458.34       1  0.27      12.51    256.37   \n",
      "16:09:00           NaN  16003.73    459.20       1  0.27      12.54    256.48   \n",
      "16:10:00           NaN  16003.73    459.20       1  0.27      12.54    256.48   \n",
      "16:11:00           NaN  16003.73    459.20       1  0.27      12.54    256.48   \n",
      "16:13:00           NaN  16003.73    459.20       1  0.27      12.54    256.48   \n",
      "16:14:00           NaN  16014.28    459.30       1  0.27      12.55    256.42   \n",
      "16:15:00           NaN  16014.28    459.30       1  0.27      12.55    256.42   \n",
      "16:16:00           NaN  16014.28    459.30       1  0.27      12.55    256.42   \n",
      "18:19:00           NaN  16727.49    461.71       1  0.29      12.87     74.46   \n",
      "18:19:00           NaN  16727.49    461.71       1  0.29      12.87     74.46   \n",
      "18:20:00           NaN  16727.49    461.71       1  0.29      12.87     74.46   \n",
      "18:22:00           NaN  16708.40    462.33       1  0.29      12.93     74.57   \n",
      "18:22:00           NaN  16708.40    462.33       1  0.29      12.93     74.57   \n",
      "18:23:00           NaN  16708.40    462.33       1  0.29      12.93     74.57   \n",
      "18:24:00           NaN  16708.40    462.33       1  0.29      12.93     74.57   \n",
      "18:25:00           NaN  16708.40    462.33       1  0.29      12.93     74.57   \n",
      "18:26:00           NaN  16738.89    462.95       1  0.29      12.96     75.08   \n",
      "18:27:00           NaN  16738.89    462.95       1  0.29      12.96     75.08   \n",
      "18:28:00           NaN  16738.89    462.95       1  0.29      12.96     75.08   \n",
      "18:29:00           NaN  16738.89    462.95       1  0.29      12.96     75.08   \n",
      "18:30:00           NaN  16738.89    462.95       1  0.29      12.96     75.08   \n",
      "18:31:00           NaN  16728.93    463.07       1  0.29      12.94     75.02   \n",
      "18:32:00           NaN  16728.93    463.07       1  0.29      12.94     75.02   \n",
      "18:33:00           NaN  16728.93    463.07       1  0.29      12.94     75.02   \n",
      "18:34:00           NaN  16728.93    463.07       1  0.29      12.94     75.02   \n",
      "18:35:00           NaN  16728.93    463.07       1  0.29      12.94     75.02   \n",
      "18:36:00           NaN  16748.59    463.60       1  0.29      12.92     74.89   \n",
      "18:37:00           NaN  16748.59    463.60       1  0.29      12.92     74.89   \n",
      "18:38:00           NaN  16748.59    463.60       1  0.29      12.92     74.89   \n",
      "18:39:00           NaN  16748.59    463.60       1  0.29      12.92     74.89   \n",
      "18:40:00           NaN  16748.59    463.60       1  0.29      12.92     74.89   \n",
      "18:41:00           NaN  16792.57    463.72       1  0.29      12.90     74.54   \n",
      "18:42:00           NaN  16792.57    463.72       1  0.29      12.90     74.54   \n",
      "18:43:00           NaN  16792.57    463.72       1  0.29      12.90     74.54   \n",
      "18:43:00           NaN  16792.57    463.72       1  0.29      12.90     74.54   \n",
      "18:43:00           NaN  16792.57    463.72       1  0.29      12.90     74.54   \n",
      "\n",
      "          Bitcoin Cash  Binance Coin  Polkadot  Cardano       DOW  \n",
      "Time                                                               \n",
      "15:56:00         62.96         27.88      4.47      0.1  29479.81  \n",
      "15:57:00         62.96         27.88      4.47      0.1  29479.81  \n",
      "15:58:00         62.95         27.88      4.47      0.1  29479.81  \n",
      "15:59:00         62.95         27.88      4.47      0.1  29479.81  \n",
      "16:00:00         62.95         27.88      4.47      0.1  29479.81  \n",
      "16:01:00         62.95         27.88      4.47      0.1  29479.81  \n",
      "16:02:00         62.95         27.88      4.47      0.1  29479.81  \n",
      "16:03:00         62.98         27.90      4.46      0.1  29479.81  \n",
      "16:04:00         62.98         27.90      4.46      0.1  29479.81  \n",
      "16:05:00         62.98         27.90      4.46      0.1  29479.81  \n",
      "16:06:00         62.98         27.90      4.46      0.1  29479.81  \n",
      "16:07:00         62.98         27.90      4.46      0.1  29479.81  \n",
      "16:08:00         62.98         27.90      4.46      0.1  29479.81  \n",
      "16:09:00         63.06         27.91      4.48      0.1  29479.81  \n",
      "16:10:00         63.06         27.91      4.48      0.1  29479.81  \n",
      "16:11:00         63.06         27.91      4.48      0.1  29479.81  \n",
      "16:13:00         63.06         27.91      4.48      0.1  29479.81  \n",
      "16:14:00         63.08         27.88      4.47      0.1  29479.81  \n",
      "16:15:00         63.08         27.88      4.47      0.1  29479.81  \n",
      "16:16:00         63.08         27.88      4.47      0.1  29479.81  \n",
      "18:19:00        250.73         28.00      4.52      0.1  29479.81  \n",
      "18:19:00        250.73         28.00      4.52      0.1  29479.81  \n",
      "18:20:00        250.73         28.00      4.52      0.1  29479.81  \n",
      "18:22:00        250.68         28.05      4.52      0.1  29479.81  \n",
      "18:22:00        250.68         28.05      4.52      0.1  29479.81  \n",
      "18:23:00        250.68         28.05      4.52      0.1  29479.81  \n",
      "18:24:00        250.68         28.05      4.52      0.1  29479.81  \n",
      "18:25:00        250.68         28.05      4.52      0.1  29479.81  \n",
      "18:26:00        251.14         28.09      4.53      0.1  29479.81  \n",
      "18:27:00        251.14         28.09      4.53      0.1  29479.81  \n",
      "18:28:00        251.14         28.09      4.53      0.1  29479.81  \n",
      "18:29:00        251.14         28.09      4.53      0.1  29479.81  \n",
      "18:30:00        251.14         28.09      4.53      0.1  29479.81  \n",
      "18:31:00        251.26         28.06      4.57      0.1  29479.81  \n",
      "18:32:00        251.26         28.06      4.57      0.1  29479.81  \n",
      "18:33:00        251.26         28.06      4.57      0.1  29479.81  \n",
      "18:34:00        251.26         28.06      4.57      0.1  29479.81  \n",
      "18:35:00        251.26         28.06      4.57      0.1  29479.81  \n",
      "18:36:00        251.15         28.18      4.55      0.1  29479.81  \n",
      "18:37:00        251.15         28.18      4.55      0.1  29479.81  \n",
      "18:38:00        251.15         28.18      4.55      0.1  29479.81  \n",
      "18:39:00        251.15         28.18      4.55      0.1  29479.81  \n",
      "18:40:00        251.15         28.18      4.55      0.1  29479.81  \n",
      "18:41:00        251.81         28.16      4.57      0.1  29479.81  \n",
      "18:42:00        251.81         28.16      4.57      0.1  29479.81  \n",
      "18:43:00        251.81         28.16      4.57      0.1  29479.81  \n",
      "18:43:00        251.81         28.16      4.57      0.1  29479.81  \n",
      "18:43:00        251.81         28.16      4.57      0.1  29479.81  \n"
     ]
    }
   ],
   "source": [
    "print(data)"
   ]
  },
  {
   "cell_type": "code",
   "execution_count": 6,
   "metadata": {},
   "outputs": [
    {
     "data": {
      "text/plain": [
       "Text(0, 0.5, 'Bitcoin price')"
      ]
     },
     "execution_count": 6,
     "metadata": {},
     "output_type": "execute_result"
    },
    {
     "data": {
      "image/png": "[encoded data removed]",
      "text/plain": [
       "<Figure size 432x288 with 1 Axes>"
      ]
     },
     "metadata": {
      "needs_background": "light"
     },
     "output_type": "display_data"
    }
   ],
   "source": [
    "data['Bitcoin'].plot()\n",
    "plt.ylabel(\"Bitcoin price\")"
   ]
  },
  {
   "cell_type": "code",
   "execution_count": 7,
   "metadata": {},
   "outputs": [
    {
     "data": {
      "text/html": [
       "<div>\n",
       "<style scoped>\n",
       "    .dataframe tbody tr th:only-of-type {\n",
       "        vertical-align: middle;\n",
       "    }\n",
       "\n",
       "    .dataframe tbody tr th {\n",
       "        vertical-align: top;\n",
       "    }\n",
       "\n",
       "    .dataframe thead th {\n",
       "        text-align: right;\n",
       "    }\n",
       "</style>\n",
       "<table border=\"1\" class=\"dataframe\">\n",
       "  <thead>\n",
       "    <tr style=\"text-align: right;\">\n",
       "      <th></th>\n",
       "      <th>16792.57</th>\n",
       "      <th>Bitcoin</th>\n",
       "      <th>Ethereum</th>\n",
       "      <th>Tether</th>\n",
       "      <th>XRP</th>\n",
       "      <th>Chainlink</th>\n",
       "      <th>Litecoin</th>\n",
       "      <th>Bitcoin Cash</th>\n",
       "      <th>Binance Coin</th>\n",
       "      <th>Polkadot</th>\n",
       "      <th>Cardano</th>\n",
       "      <th>DOW</th>\n",
       "    </tr>\n",
       "  </thead>\n",
       "  <tbody>\n",
       "    <tr>\n",
       "      <td>count</td>\n",
       "      <td>10.000000</td>\n",
       "      <td>48.000000</td>\n",
       "      <td>48.000000</td>\n",
       "      <td>48.0</td>\n",
       "      <td>48.000000</td>\n",
       "      <td>48.000000</td>\n",
       "      <td>48.00000</td>\n",
       "      <td>48.000000</td>\n",
       "      <td>48.000000</td>\n",
       "      <td>48.000000</td>\n",
       "      <td>4.800000e+01</td>\n",
       "      <td>4.800000e+01</td>\n",
       "    </tr>\n",
       "    <tr>\n",
       "      <td>mean</td>\n",
       "      <td>3031.690624</td>\n",
       "      <td>16429.545625</td>\n",
       "      <td>461.172292</td>\n",
       "      <td>1.0</td>\n",
       "      <td>0.281667</td>\n",
       "      <td>12.754792</td>\n",
       "      <td>150.47625</td>\n",
       "      <td>172.758750</td>\n",
       "      <td>28.011250</td>\n",
       "      <td>4.513333</td>\n",
       "      <td>1.000000e-01</td>\n",
       "      <td>2.947981e+04</td>\n",
       "    </tr>\n",
       "    <tr>\n",
       "      <td>std</td>\n",
       "      <td>9294.160050</td>\n",
       "      <td>373.995663</td>\n",
       "      <td>2.238812</td>\n",
       "      <td>0.0</td>\n",
       "      <td>0.009964</td>\n",
       "      <td>0.203250</td>\n",
       "      <td>90.51131</td>\n",
       "      <td>93.743886</td>\n",
       "      <td>0.112167</td>\n",
       "      <td>0.041480</td>\n",
       "      <td>2.804929e-17</td>\n",
       "      <td>3.676477e-11</td>\n",
       "    </tr>\n",
       "    <tr>\n",
       "      <td>min</td>\n",
       "      <td>0.104867</td>\n",
       "      <td>15980.380000</td>\n",
       "      <td>458.250000</td>\n",
       "      <td>1.0</td>\n",
       "      <td>0.270000</td>\n",
       "      <td>12.500000</td>\n",
       "      <td>74.46000</td>\n",
       "      <td>62.950000</td>\n",
       "      <td>27.880000</td>\n",
       "      <td>4.460000</td>\n",
       "      <td>1.000000e-01</td>\n",
       "      <td>2.947981e+04</td>\n",
       "    </tr>\n",
       "    <tr>\n",
       "      <td>25%</td>\n",
       "      <td>1.892500</td>\n",
       "      <td>15994.790000</td>\n",
       "      <td>458.400000</td>\n",
       "      <td>1.0</td>\n",
       "      <td>0.270000</td>\n",
       "      <td>12.510000</td>\n",
       "      <td>74.57000</td>\n",
       "      <td>62.980000</td>\n",
       "      <td>27.900000</td>\n",
       "      <td>4.470000</td>\n",
       "      <td>1.000000e-01</td>\n",
       "      <td>2.947981e+04</td>\n",
       "    </tr>\n",
       "    <tr>\n",
       "      <td>50%</td>\n",
       "      <td>20.530000</td>\n",
       "      <td>16708.400000</td>\n",
       "      <td>462.330000</td>\n",
       "      <td>1.0</td>\n",
       "      <td>0.290000</td>\n",
       "      <td>12.900000</td>\n",
       "      <td>75.08000</td>\n",
       "      <td>250.680000</td>\n",
       "      <td>28.050000</td>\n",
       "      <td>4.520000</td>\n",
       "      <td>1.000000e-01</td>\n",
       "      <td>2.947981e+04</td>\n",
       "    </tr>\n",
       "    <tr>\n",
       "      <td>75%</td>\n",
       "      <td>207.492500</td>\n",
       "      <td>16738.890000</td>\n",
       "      <td>463.070000</td>\n",
       "      <td>1.0</td>\n",
       "      <td>0.290000</td>\n",
       "      <td>12.930000</td>\n",
       "      <td>256.42000</td>\n",
       "      <td>251.150000</td>\n",
       "      <td>28.090000</td>\n",
       "      <td>4.550000</td>\n",
       "      <td>1.000000e-01</td>\n",
       "      <td>2.947981e+04</td>\n",
       "    </tr>\n",
       "    <tr>\n",
       "      <td>max</td>\n",
       "      <td>29479.810000</td>\n",
       "      <td>16792.570000</td>\n",
       "      <td>463.720000</td>\n",
       "      <td>1.0</td>\n",
       "      <td>0.290000</td>\n",
       "      <td>12.960000</td>\n",
       "      <td>256.64000</td>\n",
       "      <td>251.810000</td>\n",
       "      <td>28.180000</td>\n",
       "      <td>4.570000</td>\n",
       "      <td>1.000000e-01</td>\n",
       "      <td>2.947981e+04</td>\n",
       "    </tr>\n",
       "  </tbody>\n",
       "</table>\n",
       "</div>"
      ],
      "text/plain": [
       "           16792.57       Bitcoin    Ethereum  Tether        XRP  Chainlink  \\\n",
       "count     10.000000     48.000000   48.000000    48.0  48.000000  48.000000   \n",
       "mean    3031.690624  16429.545625  461.172292     1.0   0.281667  12.754792   \n",
       "std     9294.160050    373.995663    2.238812     0.0   0.009964   0.203250   \n",
       "min        0.104867  15980.380000  458.250000     1.0   0.270000  12.500000   \n",
       "25%        1.892500  15994.790000  458.400000     1.0   0.270000  12.510000   \n",
       "50%       20.530000  16708.400000  462.330000     1.0   0.290000  12.900000   \n",
       "75%      207.492500  16738.890000  463.070000     1.0   0.290000  12.930000   \n",
       "max    29479.810000  16792.570000  463.720000     1.0   0.290000  12.960000   \n",
       "\n",
       "        Litecoin  Bitcoin Cash  Binance Coin   Polkadot       Cardano  \\\n",
       "count   48.00000     48.000000     48.000000  48.000000  4.800000e+01   \n",
       "mean   150.47625    172.758750     28.011250   4.513333  1.000000e-01   \n",
       "std     90.51131     93.743886      0.112167   0.041480  2.804929e-17   \n",
       "min     74.46000     62.950000     27.880000   4.460000  1.000000e-01   \n",
       "25%     74.57000     62.980000     27.900000   4.470000  1.000000e-01   \n",
       "50%     75.08000    250.680000     28.050000   4.520000  1.000000e-01   \n",
       "75%    256.42000    251.150000     28.090000   4.550000  1.000000e-01   \n",
       "max    256.64000    251.810000     28.180000   4.570000  1.000000e-01   \n",
       "\n",
       "                DOW  \n",
       "count  4.800000e+01  \n",
       "mean   2.947981e+04  \n",
       "std    3.676477e-11  \n",
       "min    2.947981e+04  \n",
       "25%    2.947981e+04  \n",
       "50%    2.947981e+04  \n",
       "75%    2.947981e+04  \n",
       "max    2.947981e+04  "
      ]
     },
     "execution_count": 7,
     "metadata": {},
     "output_type": "execute_result"
    }
   ],
   "source": [
    "data.describe()"
   ]
  },
  {
   "cell_type": "code",
   "execution_count": 8,
   "metadata": {},
   "outputs": [],
   "source": [
    "model = LinearRegression()"
   ]
  },
  {
   "cell_type": "code",
   "execution_count": 9,
   "metadata": {},
   "outputs": [],
   "source": [
    "x = data[['Bitcoin']].values\n",
    "y = data['Bitcoin'].values"
   ]
  },
  {
   "cell_type": "code",
   "execution_count": 10,
   "metadata": {},
   "outputs": [],
   "source": [
    "x_train,x_test,y_train,y_test= train_test_split(x,y,test_size=0.2, random_state=0)"
   ]
  },
  {
   "cell_type": "code",
   "execution_count": 11,
   "metadata": {},
   "outputs": [
    {
     "data": {
      "text/plain": [
       "LinearRegression(copy_X=True, fit_intercept=True, n_jobs=None, normalize=False)"
      ]
     },
     "execution_count": 11,
     "metadata": {},
     "output_type": "execute_result"
    }
   ],
   "source": [
    "model.fit(x_train,y_train)"
   ]
  },
  {
   "cell_type": "code",
   "execution_count": 12,
   "metadata": {},
   "outputs": [
    {
     "name": "stdout",
     "output_type": "stream",
     "text": [
      "[1.]\n"
     ]
    }
   ],
   "source": [
    "print(model.coef_)"
   ]
  },
  {
   "cell_type": "code",
   "execution_count": 13,
   "metadata": {},
   "outputs": [
    {
     "name": "stdout",
     "output_type": "stream",
     "text": [
      "7.275957614183426e-12\n"
     ]
    }
   ],
   "source": [
    "print(model.intercept_)"
   ]
  },
  {
   "cell_type": "code",
   "execution_count": 14,
   "metadata": {},
   "outputs": [
    {
     "name": "stdout",
     "output_type": "stream",
     "text": [
      "[15980.38 16738.89 16728.93 16708.4  16792.57 15983.84 16792.57 16014.28\n",
      " 16003.73 16738.89 16727.49 16003.73 16748.59 16727.49 16748.59 15980.38\n",
      " 16003.73 16708.4  15983.84 16014.28 16728.93 16003.73 16748.59 15994.79\n",
      " 15980.38 16792.57 16708.4  15983.84 16708.4  16728.93 16727.49 16014.28\n",
      " 15980.38 16748.59 16792.57 15983.84 15994.79 16792.57]\n"
     ]
    }
   ],
   "source": [
    "predicted = model.predict(x_train)\n",
    "print(predicted)"
   ]
  },
  {
   "cell_type": "code",
   "execution_count": 15,
   "metadata": {},
   "outputs": [
    {
     "name": "stdout",
     "output_type": "stream",
     "text": [
      "[16738.89 15983.84 16708.4  16738.89 16738.89 16728.93 16728.93 16748.59\n",
      " 15980.38 15980.38]\n"
     ]
    }
   ],
   "source": [
    "predicted2 = model.predict(x_test)\n",
    "print(predicted2)"
   ]
  },
  {
   "cell_type": "code",
   "execution_count": 16,
   "metadata": {},
   "outputs": [],
   "source": [
    "data_frame = pd.DataFrame({'Actual':x_train.flatten(),'Predicted':predicted.flatten()})"
   ]
  },
  {
   "cell_type": "code",
   "execution_count": 17,
   "metadata": {},
   "outputs": [
    {
     "name": "stdout",
     "output_type": "stream",
     "text": [
      "      Actual  Predicted\n",
      "0   15980.38   15980.38\n",
      "1   16738.89   16738.89\n",
      "2   16728.93   16728.93\n",
      "3   16708.40   16708.40\n",
      "4   16792.57   16792.57\n",
      "5   15983.84   15983.84\n",
      "6   16792.57   16792.57\n",
      "7   16014.28   16014.28\n",
      "8   16003.73   16003.73\n",
      "9   16738.89   16738.89\n",
      "10  16727.49   16727.49\n",
      "11  16003.73   16003.73\n",
      "12  16748.59   16748.59\n",
      "13  16727.49   16727.49\n",
      "14  16748.59   16748.59\n",
      "15  15980.38   15980.38\n",
      "16  16003.73   16003.73\n",
      "17  16708.40   16708.40\n",
      "18  15983.84   15983.84\n",
      "19  16014.28   16014.28\n",
      "20  16728.93   16728.93\n",
      "21  16003.73   16003.73\n",
      "22  16748.59   16748.59\n",
      "23  15994.79   15994.79\n",
      "24  15980.38   15980.38\n",
      "25  16792.57   16792.57\n",
      "26  16708.40   16708.40\n",
      "27  15983.84   15983.84\n",
      "28  16708.40   16708.40\n",
      "29  16728.93   16728.93\n",
      "30  16727.49   16727.49\n",
      "31  16014.28   16014.28\n",
      "32  15980.38   15980.38\n",
      "33  16748.59   16748.59\n",
      "34  16792.57   16792.57\n",
      "35  15983.84   15983.84\n",
      "36  15994.79   15994.79\n",
      "37  16792.57   16792.57\n"
     ]
    }
   ],
   "source": [
    "print(data_frame)"
   ]
  },
  {
   "cell_type": "code",
   "execution_count": 19,
   "metadata": {},
   "outputs": [
    {
     "data": {
      "text/html": [
       "<div>\n",
       "<style scoped>\n",
       "    .dataframe tbody tr th:only-of-type {\n",
       "        vertical-align: middle;\n",
       "    }\n",
       "\n",
       "    .dataframe tbody tr th {\n",
       "        vertical-align: top;\n",
       "    }\n",
       "\n",
       "    .dataframe thead th {\n",
       "        text-align: right;\n",
       "    }\n",
       "</style>\n",
       "<table border=\"1\" class=\"dataframe\">\n",
       "  <thead>\n",
       "    <tr style=\"text-align: right;\">\n",
       "      <th></th>\n",
       "      <th>Actual</th>\n",
       "      <th>Predicted</th>\n",
       "    </tr>\n",
       "  </thead>\n",
       "  <tbody>\n",
       "    <tr>\n",
       "      <td>0</td>\n",
       "      <td>15980.38</td>\n",
       "      <td>15980.38</td>\n",
       "    </tr>\n",
       "    <tr>\n",
       "      <td>1</td>\n",
       "      <td>16738.89</td>\n",
       "      <td>16738.89</td>\n",
       "    </tr>\n",
       "    <tr>\n",
       "      <td>2</td>\n",
       "      <td>16728.93</td>\n",
       "      <td>16728.93</td>\n",
       "    </tr>\n",
       "    <tr>\n",
       "      <td>3</td>\n",
       "      <td>16708.40</td>\n",
       "      <td>16708.40</td>\n",
       "    </tr>\n",
       "    <tr>\n",
       "      <td>4</td>\n",
       "      <td>16792.57</td>\n",
       "      <td>16792.57</td>\n",
       "    </tr>\n",
       "    <tr>\n",
       "      <td>5</td>\n",
       "      <td>15983.84</td>\n",
       "      <td>15983.84</td>\n",
       "    </tr>\n",
       "    <tr>\n",
       "      <td>6</td>\n",
       "      <td>16792.57</td>\n",
       "      <td>16792.57</td>\n",
       "    </tr>\n",
       "    <tr>\n",
       "      <td>7</td>\n",
       "      <td>16014.28</td>\n",
       "      <td>16014.28</td>\n",
       "    </tr>\n",
       "    <tr>\n",
       "      <td>8</td>\n",
       "      <td>16003.73</td>\n",
       "      <td>16003.73</td>\n",
       "    </tr>\n",
       "    <tr>\n",
       "      <td>9</td>\n",
       "      <td>16738.89</td>\n",
       "      <td>16738.89</td>\n",
       "    </tr>\n",
       "  </tbody>\n",
       "</table>\n",
       "</div>"
      ],
      "text/plain": [
       "     Actual  Predicted\n",
       "0  15980.38   15980.38\n",
       "1  16738.89   16738.89\n",
       "2  16728.93   16728.93\n",
       "3  16708.40   16708.40\n",
       "4  16792.57   16792.57\n",
       "5  15983.84   15983.84\n",
       "6  16792.57   16792.57\n",
       "7  16014.28   16014.28\n",
       "8  16003.73   16003.73\n",
       "9  16738.89   16738.89"
      ]
     },
     "execution_count": 19,
     "metadata": {},
     "output_type": "execute_result"
    }
   ],
   "source": [
    "data_frame.head(10)"
   ]
  },
  {
   "cell_type": "code",
   "execution_count": 18,
   "metadata": {},
   "outputs": [
    {
     "data": {
      "text/plain": [
       "<matplotlib.axes._subplots.AxesSubplot at 0x24ee12cb408>"
      ]
     },
     "execution_count": 18,
     "metadata": {},
     "output_type": "execute_result"
    },
    {
     "data": {
      "image/png": "[encoded data removed]",
      "text/plain": [
       "<Figure size 432x288 with 1 Axes>"
      ]
     },
     "metadata": {
      "needs_background": "light"
     },
     "output_type": "display_data"
    }
   ],
   "source": [
    "data_frame.plot(kind = 'bar')"
   ]
  },
  {
   "cell_type": "code",
   "execution_count": 25,
   "metadata": {},
   "outputs": [
    {
     "name": "stdout",
     "output_type": "stream",
     "text": [
      "R2 score: 1.0\n",
      "Mean Absolute Error: 8.137584173757779e-13\n",
      "Mean Squared Error: 1.4802179382527864e-24\n",
      "Root Mean Squared Error: 1.216642074832523e-12\n"
     ]
    }
   ],
   "source": [
    "predicted = model.predict(x_train)\n",
    "print('R2 score:', metrics.r2_score(y_train, predicted))\n",
    "print('Mean Absolute Error:', metrics.mean_absolute_error(y_train, predicted))\n",
    "print('Mean Squared Error:', metrics.mean_squared_error(y_train, predicted))\n",
    "print('Root Mean Squared Error:', np.sqrt(metrics.mean_squared_error(y_train, predicted)))"
   ]
  },
  {
   "cell_type": "code",
   "execution_count": 27,
   "metadata": {},
   "outputs": [
    {
     "name": "stdout",
     "output_type": "stream",
     "text": [
      "R2 score: 1.0\n",
      "Mean Absolute Error: 5.456968210637569e-13\n",
      "Mean Squared Error: 9.926167350636332e-25\n",
      "Root Mean Squared Error: 9.963015281849331e-13\n"
     ]
    }
   ],
   "source": [
    "predicted2 = model.predict(x_test)\n",
    "print('R2 score:', metrics.r2_score(y_test, predicted2))\n",
    "print('Mean Absolute Error:', metrics.mean_absolute_error(y_test, predicted2))\n",
    "print('Mean Squared Error:', metrics.mean_squared_error(y_test, predicted2))\n",
    "print('Root Mean Squared Error:', np.sqrt(metrics.mean_squared_error(y_test, predicted2)))"
   ]
  },
  {
   "cell_type": "code",
   "execution_count": null,
   "metadata": {},
   "outputs": [],
   "source": []
  }
 ],
 "metadata": {
  "kernelspec": {
   "display_name": "Python 3",
   "language": "python",
   "name": "python3"
  },
  "language_info": {
   "codemirror_mode": {
    "name": "ipython",
    "version": 3
   },
   "file_extension": ".py",
   "mimetype": "text/x-python",
   "name": "python",
   "nbconvert_exporter": "python",
   "pygments_lexer": "ipython3",
   "version": "3.7.4"
  }
 },
 "nbformat": 4,
 "nbformat_minor": 4
}
